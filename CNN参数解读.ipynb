{
 "cells": [
  {
   "cell_type": "markdown",
   "id": "3f7ee4b5-d6f8-496e-8310-6db96816fa34",
   "metadata": {},
   "source": [
    "卷积网络中的输入和层与传统神经网络有些区别，需要重新设计，训练模块基本一致"
   ]
  },
  {
   "cell_type": "code",
   "execution_count": 1,
   "id": "2123ef30-0960-4f9b-bda1-1d161d56a0cb",
   "metadata": {},
   "outputs": [],
   "source": [
    "import torch\n",
    "import torch.nn as nn\n",
    "import torch.optim as optim\n",
    "\n",
    "import numpy as np\n",
    "\n",
    "import matplotlib.pyplot as plt\n",
    "%matplotlib inline\n",
    "\n",
    "from torchvision import datasets, transforms"
   ]
  },
  {
   "cell_type": "markdown",
   "id": "f5dc320b-624e-49a1-9d56-4f570da1a8b9",
   "metadata": {},
   "source": [
    "**读取数据**\n",
    "- 分别构建训练集和测试集（验证集）\n",
    "- DataLoader 来迭代选取数据"
   ]
  },
  {
   "cell_type": "code",
   "execution_count": 2,
   "id": "e1283aa6-d383-4e9c-af57-f2f2463ac815",
   "metadata": {},
   "outputs": [],
   "source": [
    "# 定义超参数\n",
    "input_size = 28\n",
    "classes = 10\n",
    "epochs = 3\n",
    "batch_size = 64\n",
    "\n",
    "# 定义数据预处理\n",
    "transform = transforms.ToTensor()\n",
    "\n",
    "# 训练集\n",
    "train_dataset = datasets.MNIST(root=\"./data\",        # 加载数据集\n",
    "                              train=True,            # 决定加载的是数据集还是测试集\n",
    "                              transform=transform,   # 数据预处理操作：转为tensor（张量）格式\n",
    "                              download=True)         # 如果指定文件夹没数据，就从官网下载\n",
    "# 测试集\n",
    "valid_dataset = datasets.MNIST(root=\"./data\",\n",
    "                             train=False,\n",
    "                             transform=transform)\n",
    "\n",
    "# 构建 batch数据\n",
    "train_loader = torch.utils.data.DataLoader(dataset=train_dataset,\n",
    "                                          batch_size=batch_size,\n",
    "                                          shuffle=True)\n",
    "valid_loader = torch.utils.data.DataLoader(dataset=valid_dataset,\n",
    "                                          batch_size=batch_size,\n",
    "                                          shuffle=True)"
   ]
  },
  {
   "cell_type": "markdown",
   "id": "247b36ec-4cab-4893-9836-756a2f47fb24",
   "metadata": {},
   "source": [
    "**卷积网络构建**\n",
    "- 一般卷积层，relu层，池化层可以写在一起\n",
    "- 注意卷积最后结果还是一个特征图，需要把特征图转换成向量才能做分类或者回归任务"
   ]
  },
  {
   "cell_type": "code",
   "execution_count": 3,
   "id": "0b26e5c0-6b33-43be-b963-1466aea0c73f",
   "metadata": {},
   "outputs": [],
   "source": [
    "class CNN(nn.Module):\n",
    "    def __init__(self):\n",
    "        super(CNN, self).__init__()\n",
    "        self.conv1 = nn.Sequential(     # nn.Sequential() 能够把多个神经网络层封装成一个整体\n",
    "            nn.Conv2d(                  # 卷积层，输入是（64， 1， 28， 28）\n",
    "                in_channels=1,          # 灰度图\n",
    "                out_channels=16,        # 要得到多少特征图\n",
    "                kernel_size=5,          # 卷积核大小 5*5\n",
    "                stride=1,               # 步长\n",
    "                padding=2               # 边缘\n",
    "            ),                          # 输出的特征图大小为（64， 16， 28， 28）\n",
    "            nn.ReLU(),                  # 激活函数\n",
    "            nn.MaxPool2d(kernel_size=2) # 进行池化操作，输出结果为（64， 16， 14， 14）\n",
    "        )\n",
    "        self.conv2 = nn.Sequential(\n",
    "            nn.Conv2d(                  # 输入是（64，16，14，14）\n",
    "                in_channels=16,\n",
    "                out_channels=32,\n",
    "                kernel_size=5,\n",
    "                stride=1,\n",
    "                padding=2\n",
    "            ),                          # 输出是（64，32，14，14）\n",
    "            nn.ReLU(),              \n",
    "            nn.MaxPool2d(kernel_size=2) # 输出是（64，32，7，7）\n",
    "        )\n",
    "        self.conv3 = nn.Sequential(\n",
    "            nn.Conv2d(32, 32, 5, 1, 2), # 输出是（64，32，7，7）\n",
    "            nn.ReLU(),                  \n",
    "            nn.Conv2d(32, 64, 5, 1, 2), # 输出是（64，64，7，7）\n",
    "            nn.ReLU(),\n",
    "        )\n",
    "        # 最终是要进行是分类，因此要将特征图转展平变成（64， 64 * 7 * 7）再传入全连接层计算分类结果\n",
    "        # 输出是（64，10）\n",
    "        self.out = nn.Linear(64 * 7 * 7, 10)\n",
    "\n",
    "    def forward(self, x):\n",
    "        x = self.conv1(x)\n",
    "        x = self.conv2(x)\n",
    "        x = self.conv3(x)\n",
    "        x = x.view(x.size(0), -1)    # 展平操作，结果为(batch_size, 64 * 7 * 7)\n",
    "        output = self.out(x)\n",
    "        return output                # 结果矩阵，大小为64 * 10"
   ]
  },
  {
   "cell_type": "raw",
   "id": "0f9957da-93c7-4c1c-90f6-4ca0d11c88f7",
   "metadata": {},
   "source": [
    "输入的数据是（64， 1， 28， 28）\n",
    "\n",
    "in_chanel  （一个卷积核的层数）表示使用的卷积核是1层的，与输入的通道数大小一致\n",
    "out_chanel （16个不同的卷积核）表示输出的特征图的通道数是16层的\n",
    "padding    （边缘填充空白）想让输出的特征图的宽高和输入的一样，就要把padding设成(kernel_size - 1) / 2 if stride = 1\n",
    "\n",
    "根据上面各项可以得出，conv1层中的Conv2d得到的最终结果是（64, 16, 28, 28）\n",
    "上述函数中的\"2d\"表明整个操作是在二维空间上进行的"
   ]
  },
  {
   "cell_type": "markdown",
   "id": "dee2f9c8-549a-41d9-8c4d-ae738f9d7e42",
   "metadata": {},
   "source": [
    "**求准确率，准确率作为评估标准**"
   ]
  },
  {
   "cell_type": "code",
   "execution_count": 4,
   "id": "82dcb63f-8e39-4946-90ad-864ff603c431",
   "metadata": {},
   "outputs": [],
   "source": [
    "def seek_right_num(predictions, labels):\n",
    "    pred_labels = torch.max(predictions.data, 1)[1]\n",
    "    # 计算预测标签和真实标签之间匹配的数量\n",
    "    # view.as() 方法尝试将 labels 张量调整为与 pred_labels 相同的形状\n",
    "    right_num = pred_labels.eq(labels.data.view_as(pred_labels)).sum()\n",
    "    return right_num, len(labels)"
   ]
  },
  {
   "cell_type": "markdown",
   "id": "68916aab-6bf8-44e3-b69a-4ab09be6eb8f",
   "metadata": {},
   "source": [
    "**训练网络模型**"
   ]
  },
  {
   "cell_type": "code",
   "execution_count": 8,
   "id": "f854857b-c34a-4178-a8c6-ee13abf05632",
   "metadata": {},
   "outputs": [
    {
     "name": "stdout",
     "output_type": "stream",
     "text": [
      "[(tensor(5), 64)]\n"
     ]
    },
    {
     "ename": "KeyboardInterrupt",
     "evalue": "",
     "output_type": "error",
     "traceback": [
      "\u001b[1;31m---------------------------------------------------------------------------\u001b[0m",
      "\u001b[1;31mKeyboardInterrupt\u001b[0m                         Traceback (most recent call last)",
      "Cell \u001b[1;32mIn[8], line 34\u001b[0m\n\u001b[0;32m     31\u001b[0m net\u001b[38;5;241m.\u001b[39meval()\n\u001b[0;32m     32\u001b[0m valid_right_nums \u001b[38;5;241m=\u001b[39m []\n\u001b[1;32m---> 34\u001b[0m \u001b[38;5;28;01mfor\u001b[39;00m (batch_x_valid, batch_y_valid) \u001b[38;5;129;01min\u001b[39;00m valid_loader:\n\u001b[0;32m     35\u001b[0m     pred_valid \u001b[38;5;241m=\u001b[39m net(batch_x_valid)\n\u001b[0;32m     36\u001b[0m     right_num \u001b[38;5;241m=\u001b[39m seek_right_num(pred_valid, batch_y_valid)\n",
      "File \u001b[1;32mF:\\studyApp\\miniconda\\envs\\py39\\lib\\site-packages\\torch\\utils\\data\\dataloader.py:708\u001b[0m, in \u001b[0;36m_BaseDataLoaderIter.__next__\u001b[1;34m(self)\u001b[0m\n\u001b[0;32m    705\u001b[0m \u001b[38;5;28;01mif\u001b[39;00m \u001b[38;5;28mself\u001b[39m\u001b[38;5;241m.\u001b[39m_sampler_iter \u001b[38;5;129;01mis\u001b[39;00m \u001b[38;5;28;01mNone\u001b[39;00m:\n\u001b[0;32m    706\u001b[0m     \u001b[38;5;66;03m# TODO(https://github.com/pytorch/pytorch/issues/76750)\u001b[39;00m\n\u001b[0;32m    707\u001b[0m     \u001b[38;5;28mself\u001b[39m\u001b[38;5;241m.\u001b[39m_reset()  \u001b[38;5;66;03m# type: ignore[call-arg]\u001b[39;00m\n\u001b[1;32m--> 708\u001b[0m data \u001b[38;5;241m=\u001b[39m \u001b[38;5;28;43mself\u001b[39;49m\u001b[38;5;241;43m.\u001b[39;49m\u001b[43m_next_data\u001b[49m\u001b[43m(\u001b[49m\u001b[43m)\u001b[49m\n\u001b[0;32m    709\u001b[0m \u001b[38;5;28mself\u001b[39m\u001b[38;5;241m.\u001b[39m_num_yielded \u001b[38;5;241m+\u001b[39m\u001b[38;5;241m=\u001b[39m \u001b[38;5;241m1\u001b[39m\n\u001b[0;32m    710\u001b[0m \u001b[38;5;28;01mif\u001b[39;00m (\n\u001b[0;32m    711\u001b[0m     \u001b[38;5;28mself\u001b[39m\u001b[38;5;241m.\u001b[39m_dataset_kind \u001b[38;5;241m==\u001b[39m _DatasetKind\u001b[38;5;241m.\u001b[39mIterable\n\u001b[0;32m    712\u001b[0m     \u001b[38;5;129;01mand\u001b[39;00m \u001b[38;5;28mself\u001b[39m\u001b[38;5;241m.\u001b[39m_IterableDataset_len_called \u001b[38;5;129;01mis\u001b[39;00m \u001b[38;5;129;01mnot\u001b[39;00m \u001b[38;5;28;01mNone\u001b[39;00m\n\u001b[0;32m    713\u001b[0m     \u001b[38;5;129;01mand\u001b[39;00m \u001b[38;5;28mself\u001b[39m\u001b[38;5;241m.\u001b[39m_num_yielded \u001b[38;5;241m>\u001b[39m \u001b[38;5;28mself\u001b[39m\u001b[38;5;241m.\u001b[39m_IterableDataset_len_called\n\u001b[0;32m    714\u001b[0m ):\n",
      "File \u001b[1;32mF:\\studyApp\\miniconda\\envs\\py39\\lib\\site-packages\\torch\\utils\\data\\dataloader.py:764\u001b[0m, in \u001b[0;36m_SingleProcessDataLoaderIter._next_data\u001b[1;34m(self)\u001b[0m\n\u001b[0;32m    762\u001b[0m \u001b[38;5;28;01mdef\u001b[39;00m\u001b[38;5;250m \u001b[39m\u001b[38;5;21m_next_data\u001b[39m(\u001b[38;5;28mself\u001b[39m):\n\u001b[0;32m    763\u001b[0m     index \u001b[38;5;241m=\u001b[39m \u001b[38;5;28mself\u001b[39m\u001b[38;5;241m.\u001b[39m_next_index()  \u001b[38;5;66;03m# may raise StopIteration\u001b[39;00m\n\u001b[1;32m--> 764\u001b[0m     data \u001b[38;5;241m=\u001b[39m \u001b[38;5;28;43mself\u001b[39;49m\u001b[38;5;241;43m.\u001b[39;49m\u001b[43m_dataset_fetcher\u001b[49m\u001b[38;5;241;43m.\u001b[39;49m\u001b[43mfetch\u001b[49m\u001b[43m(\u001b[49m\u001b[43mindex\u001b[49m\u001b[43m)\u001b[49m  \u001b[38;5;66;03m# may raise StopIteration\u001b[39;00m\n\u001b[0;32m    765\u001b[0m     \u001b[38;5;28;01mif\u001b[39;00m \u001b[38;5;28mself\u001b[39m\u001b[38;5;241m.\u001b[39m_pin_memory:\n\u001b[0;32m    766\u001b[0m         data \u001b[38;5;241m=\u001b[39m _utils\u001b[38;5;241m.\u001b[39mpin_memory\u001b[38;5;241m.\u001b[39mpin_memory(data, \u001b[38;5;28mself\u001b[39m\u001b[38;5;241m.\u001b[39m_pin_memory_device)\n",
      "File \u001b[1;32mF:\\studyApp\\miniconda\\envs\\py39\\lib\\site-packages\\torch\\utils\\data\\_utils\\fetch.py:52\u001b[0m, in \u001b[0;36m_MapDatasetFetcher.fetch\u001b[1;34m(self, possibly_batched_index)\u001b[0m\n\u001b[0;32m     50\u001b[0m         data \u001b[38;5;241m=\u001b[39m \u001b[38;5;28mself\u001b[39m\u001b[38;5;241m.\u001b[39mdataset\u001b[38;5;241m.\u001b[39m__getitems__(possibly_batched_index)\n\u001b[0;32m     51\u001b[0m     \u001b[38;5;28;01melse\u001b[39;00m:\n\u001b[1;32m---> 52\u001b[0m         data \u001b[38;5;241m=\u001b[39m [\u001b[38;5;28mself\u001b[39m\u001b[38;5;241m.\u001b[39mdataset[idx] \u001b[38;5;28;01mfor\u001b[39;00m idx \u001b[38;5;129;01min\u001b[39;00m possibly_batched_index]\n\u001b[0;32m     53\u001b[0m \u001b[38;5;28;01melse\u001b[39;00m:\n\u001b[0;32m     54\u001b[0m     data \u001b[38;5;241m=\u001b[39m \u001b[38;5;28mself\u001b[39m\u001b[38;5;241m.\u001b[39mdataset[possibly_batched_index]\n",
      "File \u001b[1;32mF:\\studyApp\\miniconda\\envs\\py39\\lib\\site-packages\\torch\\utils\\data\\_utils\\fetch.py:52\u001b[0m, in \u001b[0;36m<listcomp>\u001b[1;34m(.0)\u001b[0m\n\u001b[0;32m     50\u001b[0m         data \u001b[38;5;241m=\u001b[39m \u001b[38;5;28mself\u001b[39m\u001b[38;5;241m.\u001b[39mdataset\u001b[38;5;241m.\u001b[39m__getitems__(possibly_batched_index)\n\u001b[0;32m     51\u001b[0m     \u001b[38;5;28;01melse\u001b[39;00m:\n\u001b[1;32m---> 52\u001b[0m         data \u001b[38;5;241m=\u001b[39m [\u001b[38;5;28;43mself\u001b[39;49m\u001b[38;5;241;43m.\u001b[39;49m\u001b[43mdataset\u001b[49m\u001b[43m[\u001b[49m\u001b[43midx\u001b[49m\u001b[43m]\u001b[49m \u001b[38;5;28;01mfor\u001b[39;00m idx \u001b[38;5;129;01min\u001b[39;00m possibly_batched_index]\n\u001b[0;32m     53\u001b[0m \u001b[38;5;28;01melse\u001b[39;00m:\n\u001b[0;32m     54\u001b[0m     data \u001b[38;5;241m=\u001b[39m \u001b[38;5;28mself\u001b[39m\u001b[38;5;241m.\u001b[39mdataset[possibly_batched_index]\n",
      "File \u001b[1;32mF:\\studyApp\\miniconda\\envs\\py39\\lib\\site-packages\\torchvision\\datasets\\mnist.py:146\u001b[0m, in \u001b[0;36mMNIST.__getitem__\u001b[1;34m(self, index)\u001b[0m\n\u001b[0;32m    143\u001b[0m img \u001b[38;5;241m=\u001b[39m Image\u001b[38;5;241m.\u001b[39mfromarray(img\u001b[38;5;241m.\u001b[39mnumpy(), mode\u001b[38;5;241m=\u001b[39m\u001b[38;5;124m\"\u001b[39m\u001b[38;5;124mL\u001b[39m\u001b[38;5;124m\"\u001b[39m)\n\u001b[0;32m    145\u001b[0m \u001b[38;5;28;01mif\u001b[39;00m \u001b[38;5;28mself\u001b[39m\u001b[38;5;241m.\u001b[39mtransform \u001b[38;5;129;01mis\u001b[39;00m \u001b[38;5;129;01mnot\u001b[39;00m \u001b[38;5;28;01mNone\u001b[39;00m:\n\u001b[1;32m--> 146\u001b[0m     img \u001b[38;5;241m=\u001b[39m \u001b[38;5;28;43mself\u001b[39;49m\u001b[38;5;241;43m.\u001b[39;49m\u001b[43mtransform\u001b[49m\u001b[43m(\u001b[49m\u001b[43mimg\u001b[49m\u001b[43m)\u001b[49m\n\u001b[0;32m    148\u001b[0m \u001b[38;5;28;01mif\u001b[39;00m \u001b[38;5;28mself\u001b[39m\u001b[38;5;241m.\u001b[39mtarget_transform \u001b[38;5;129;01mis\u001b[39;00m \u001b[38;5;129;01mnot\u001b[39;00m \u001b[38;5;28;01mNone\u001b[39;00m:\n\u001b[0;32m    149\u001b[0m     target \u001b[38;5;241m=\u001b[39m \u001b[38;5;28mself\u001b[39m\u001b[38;5;241m.\u001b[39mtarget_transform(target)\n",
      "File \u001b[1;32mF:\\studyApp\\miniconda\\envs\\py39\\lib\\site-packages\\torchvision\\transforms\\transforms.py:137\u001b[0m, in \u001b[0;36mToTensor.__call__\u001b[1;34m(self, pic)\u001b[0m\n\u001b[0;32m    129\u001b[0m \u001b[38;5;28;01mdef\u001b[39;00m\u001b[38;5;250m \u001b[39m\u001b[38;5;21m__call__\u001b[39m(\u001b[38;5;28mself\u001b[39m, pic):\n\u001b[0;32m    130\u001b[0m \u001b[38;5;250m    \u001b[39m\u001b[38;5;124;03m\"\"\"\u001b[39;00m\n\u001b[0;32m    131\u001b[0m \u001b[38;5;124;03m    Args:\u001b[39;00m\n\u001b[0;32m    132\u001b[0m \u001b[38;5;124;03m        pic (PIL Image or numpy.ndarray): Image to be converted to tensor.\u001b[39;00m\n\u001b[1;32m   (...)\u001b[0m\n\u001b[0;32m    135\u001b[0m \u001b[38;5;124;03m        Tensor: Converted image.\u001b[39;00m\n\u001b[0;32m    136\u001b[0m \u001b[38;5;124;03m    \"\"\"\u001b[39;00m\n\u001b[1;32m--> 137\u001b[0m     \u001b[38;5;28;01mreturn\u001b[39;00m \u001b[43mF\u001b[49m\u001b[38;5;241;43m.\u001b[39;49m\u001b[43mto_tensor\u001b[49m\u001b[43m(\u001b[49m\u001b[43mpic\u001b[49m\u001b[43m)\u001b[49m\n",
      "File \u001b[1;32mF:\\studyApp\\miniconda\\envs\\py39\\lib\\site-packages\\torchvision\\transforms\\functional.py:176\u001b[0m, in \u001b[0;36mto_tensor\u001b[1;34m(pic)\u001b[0m\n\u001b[0;32m    174\u001b[0m img \u001b[38;5;241m=\u001b[39m img\u001b[38;5;241m.\u001b[39mpermute((\u001b[38;5;241m2\u001b[39m, \u001b[38;5;241m0\u001b[39m, \u001b[38;5;241m1\u001b[39m))\u001b[38;5;241m.\u001b[39mcontiguous()\n\u001b[0;32m    175\u001b[0m \u001b[38;5;28;01mif\u001b[39;00m \u001b[38;5;28misinstance\u001b[39m(img, torch\u001b[38;5;241m.\u001b[39mByteTensor):\n\u001b[1;32m--> 176\u001b[0m     \u001b[38;5;28;01mreturn\u001b[39;00m \u001b[43mimg\u001b[49m\u001b[38;5;241;43m.\u001b[39;49m\u001b[43mto\u001b[49m\u001b[43m(\u001b[49m\u001b[43mdtype\u001b[49m\u001b[38;5;241;43m=\u001b[39;49m\u001b[43mdefault_float_dtype\u001b[49m\u001b[43m)\u001b[49m\u001b[38;5;241m.\u001b[39mdiv(\u001b[38;5;241m255\u001b[39m)\n\u001b[0;32m    177\u001b[0m \u001b[38;5;28;01melse\u001b[39;00m:\n\u001b[0;32m    178\u001b[0m     \u001b[38;5;28;01mreturn\u001b[39;00m img\n",
      "\u001b[1;31mKeyboardInterrupt\u001b[0m: "
     ]
    }
   ],
   "source": [
    "# 网络（其实就是模型）\n",
    "net = CNN()\n",
    "# 损失函数\n",
    "loss_func = torch.nn.CrossEntropyLoss()\n",
    "# 优化器\n",
    "adam_optimizer = optim.Adam(net.parameters(), lr=0.001)\n",
    "\n",
    "for epoch in range(epochs):\n",
    "    # 保存训练集的准确度\n",
    "    right_nums = []\n",
    "    for batch_idx, (batch_x_train, batch_y_train) in enumerate(train_loader):\n",
    "        # 训练模式\n",
    "        net.train()\n",
    "        # 预测值\n",
    "        batch_pred = net(batch_x_train)\n",
    "        # 计算该batch中准确的标签数量及其该batch数量\n",
    "        right_num = seek_right_num(batch_pred, batch_y_train)    # 接收到的是一个元组\n",
    "        right_nums.append(right_num)\n",
    "        \n",
    "        # 损失值\n",
    "        loss = loss_func(batch_pred, batch_y_train)\n",
    "        # 清空梯度\n",
    "        adam_optimizer.zero_grad()\n",
    "        # 计算梯度\n",
    "        loss.backward()\n",
    "        # 更新参数\n",
    "        adam_optimizer.step()\n",
    "\n",
    "        # if batch_idx % 100 == 0:\n",
    "        #     print(right_nums)\n",
    "        #     net.eval()\n",
    "        #     valid_right_nums = []\n",
    "\n",
    "        #     for (batch_x_valid, batch_y_valid) in valid_loader:\n",
    "        #         pred_valid = net(batch_x_valid)\n",
    "        #         right_num = seek_right_num(pred_valid, batch_y_valid)\n",
    "        #         valid_right_nums.append(right_num)\n",
    "\n",
    "        #     # 准确率计算\n",
    "        #     train_accuracy = (sum([tup[0] for tup in right_nums]), sum([tup[1] for tup in right_nums]))\n",
    "        #     valid_accuracy = (sum([tup[0] for tup in valid_right_nums]), sum([tup[1] for tup in valid_right_nums]))\n",
    "\n",
    "        #     print(\"当前epoch: {} [{} / {} ({:.0f}%)]\\t损失: {:.6f}\\t训练集准确率: {:.2f}%\\t测试集正确率: {:.2f}%\".format(\n",
    "        #         epoch, batch_idx * batch_size, len(train_loader.dataset),\n",
    "        #         100. * batch_idx / len(train_loader),\n",
    "        #         loss.data,\n",
    "        #         100. * train_accuracy[0].numpy() / train_accuracy[1],\n",
    "        #         100. * valid_accuracy[0].numpy() / valid_accuracy[1]\n",
    "        #     ))"
   ]
  },
  {
   "cell_type": "code",
   "execution_count": null,
   "id": "2cefd598-fe2a-4b17-a106-368bd1ab93fd",
   "metadata": {},
   "outputs": [],
   "source": []
  }
 ],
 "metadata": {
  "kernelspec": {
   "display_name": "Python 3 (ipykernel)",
   "language": "python",
   "name": "python3"
  },
  "language_info": {
   "codemirror_mode": {
    "name": "ipython",
    "version": 3
   },
   "file_extension": ".py",
   "mimetype": "text/x-python",
   "name": "python",
   "nbconvert_exporter": "python",
   "pygments_lexer": "ipython3",
   "version": "3.9.21"
  }
 },
 "nbformat": 4,
 "nbformat_minor": 5
}
