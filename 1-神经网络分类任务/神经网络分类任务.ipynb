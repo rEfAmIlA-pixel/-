{
 "cells": [
  {
   "cell_type": "markdown",
   "id": "295685ca-cd90-4db7-8129-003255060f37",
   "metadata": {},
   "source": [
    "mnist数据集获取"
   ]
  },
  {
   "cell_type": "code",
   "execution_count": 1,
   "id": "4b4c52b9-8511-40cf-afaa-00b556960dc5",
   "metadata": {},
   "outputs": [],
   "source": [
    "from pathlib import Path\n",
    "import requests\n",
    "\n",
    "DATA_PATH = Path(\"data\")\n",
    "PATH = DATA_PATH / \"mnist\"\n",
    "\n",
    "PATH.mkdir(parents=True, exist_ok=True)\n",
    "\n",
    "URL = \"http://deeplearning.net/data/mnist/\"\n",
    "FILENAME = \"mnist.pkl.gz\"\n",
    "\n",
    "if not (PATH / FILENAME).exists():\n",
    "        content = requests.get(URL + FILENAME).content\n",
    "        (PATH / FILENAME).open(\"wb\").write(content)\n",
    "\n",
    "import pickle\n",
    "import gzip\n",
    "\n",
    "with gzip.open((PATH / FILENAME).as_posix(), \"rb\") as f:\n",
    "        ((x_train, y_train), (x_valid, y_valid), _) = pickle.load(f, encoding=\"latin-1\")"
   ]
  },
  {
   "cell_type": "markdown",
   "id": "0f4cdfa3-1c1a-4829-ace2-4ea7af3d4d4c",
   "metadata": {},
   "source": [
    "导包"
   ]
  },
  {
   "cell_type": "code",
   "execution_count": 2,
   "id": "fd46a39e-626f-4843-9627-a38e22dfe03f",
   "metadata": {},
   "outputs": [],
   "source": [
    "from matplotlib import pyplot\n",
    "import numpy as np\n",
    "import torch\n",
    "import torch.nn.functional"
   ]
  },
  {
   "cell_type": "markdown",
   "id": "d6515ddb-d73d-4b2b-9ed5-05b575765511",
   "metadata": {},
   "source": [
    "array 格式转为 tensor"
   ]
  },
  {
   "cell_type": "code",
   "execution_count": 3,
   "id": "c74a1ae2-3366-4795-8ae2-f5b3892952bd",
   "metadata": {},
   "outputs": [],
   "source": [
    "x_train, y_train, x_valid, y_valid = map(\n",
    "    torch.tensor, (x_train, y_train, x_valid, y_valid)\n",
    ")"
   ]
  },
  {
   "cell_type": "markdown",
   "id": "81dbdeaa-fe2a-4d0e-bc7b-911d50d60ca6",
   "metadata": {},
   "source": [
    "- 将训练数据分块 -- batch_size\n",
    "- 随机初始化weights和bias"
   ]
  },
  {
   "cell_type": "code",
   "execution_count": 4,
   "id": "a65bbaf4-9cdd-4d59-b061-14d4627084c5",
   "metadata": {},
   "outputs": [],
   "source": [
    "batch_size = 64\n",
    "x_batch = x_train[:batch_size]\n",
    "y_batch = y_train[:batch_size]\n",
    "\n",
    "# 随机初始化w，requires_grad 设置为 True 表示这个张量在后续需要计算梯度（也就是会改变值）\n",
    "weights = torch.randn([784, 10], dtype=torch.float, requires_grad=True)\n",
    "# 偏置项，初始化为0\n",
    "bias = torch.zeros(10, requires_grad=True)"
   ]
  },
  {
   "cell_type": "markdown",
   "id": "21e90d66-6a6f-428f-9387-8fb32b4a3fb0",
   "metadata": {},
   "source": [
    "- 将64张图片中的每一个像素点都进行wx+b，得到预测的y\n",
    "- 使用交叉熵函数计算预测值和真实值的偏差"
   ]
  },
  {
   "cell_type": "code",
   "execution_count": 5,
   "id": "20db426f-9459-4af9-aa74-3f7b5334d06f",
   "metadata": {},
   "outputs": [],
   "source": [
    "y_predict = x_batch.mm(weights) + bias\n",
    "\n",
    "loss = torch.nn.functional.cross_entropy(y_predict, y_batch)"
   ]
  },
  {
   "cell_type": "code",
   "execution_count": 6,
   "id": "f05862cf-be8b-42cd-a161-1375ec6ff9be",
   "metadata": {},
   "outputs": [
    {
     "data": {
      "text/plain": [
       "tensor(14.0351, grad_fn=<NllLossBackward0>)"
      ]
     },
     "execution_count": 6,
     "metadata": {},
     "output_type": "execute_result"
    }
   ],
   "source": [
    "loss"
   ]
  },
  {
   "cell_type": "code",
   "execution_count": null,
   "id": "8d9b474c-2f2e-411a-9396-f5a7eeac1c63",
   "metadata": {},
   "outputs": [],
   "source": []
  }
 ],
 "metadata": {
  "kernelspec": {
   "display_name": "Python 3 (ipykernel)",
   "language": "python",
   "name": "python3"
  },
  "language_info": {
   "codemirror_mode": {
    "name": "ipython",
    "version": 3
   },
   "file_extension": ".py",
   "mimetype": "text/x-python",
   "name": "python",
   "nbconvert_exporter": "python",
   "pygments_lexer": "ipython3",
   "version": "3.9.21"
  }
 },
 "nbformat": 4,
 "nbformat_minor": 5
}
