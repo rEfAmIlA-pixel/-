{
 "cells": [
  {
   "cell_type": "markdown",
   "id": "b1794ae5-6f22-46b2-97d5-098fa2e3467f",
   "metadata": {},
   "source": [
    "获取 Mnist数据集"
   ]
  },
  {
   "cell_type": "code",
   "execution_count": 1,
   "id": "3d907cdd-f850-4ea2-9398-8500e63e71f7",
   "metadata": {},
   "outputs": [],
   "source": [
    "from pathlib import Path\n",
    "import requests\n",
    "\n",
    "DATA_PATH = Path(\"data\")\n",
    "PATH = DATA_PATH / \"mnist\"\n",
    "\n",
    "PATH.mkdir(parents=True, exist_ok=True)\n",
    "\n",
    "URL = \"http://deeplearning.net/data/mnist/\"\n",
    "FILENAME = \"mnist.pkl.gz\"\n",
    "\n",
    "if not (PATH / FILENAME).exists():\n",
    "        content = requests.get(URL + FILENAME).content\n",
    "        (PATH / FILENAME).open(\"wb\").write(content)\n",
    "import pickle\n",
    "import gzip\n",
    "\n",
    "with gzip.open((PATH / FILENAME).as_posix(), \"rb\") as f:\n",
    "        ((x_train, y_train), (x_valid, y_valid), _) = pickle.load(f, encoding=\"latin-1\")"
   ]
  },
  {
   "cell_type": "markdown",
   "id": "7100712b-d0a5-4f5c-8601-bceddaa9babc",
   "metadata": {},
   "source": [
    "转换数据集的类型，数据需要转换成 tensor 才能进行后续训练"
   ]
  },
  {
   "cell_type": "code",
   "execution_count": 2,
   "id": "1dda7ceb-63af-4a85-b45d-96d391215455",
   "metadata": {},
   "outputs": [
    {
     "name": "stdout",
     "output_type": "stream",
     "text": [
      "(50000, 784) <class 'numpy.ndarray'>\n",
      "(50000,) <class 'numpy.ndarray'>\n",
      "(10000, 784) <class 'numpy.ndarray'>\n",
      "(10000,) <class 'numpy.ndarray'>\n",
      "torch.Size([50000, 784]) <class 'torch.Tensor'>\n",
      "torch.Size([50000]) <class 'torch.Tensor'>\n",
      "torch.Size([10000, 784]) <class 'torch.Tensor'>\n",
      "torch.Size([10000]) <class 'torch.Tensor'>\n"
     ]
    }
   ],
   "source": [
    "import torch\n",
    "\n",
    "def show_dtype():\n",
    "    print(x_train.shape, type(x_train))\n",
    "    print(y_train.shape, type(y_train))\n",
    "    print(x_valid.shape, type(x_valid))\n",
    "    print(y_valid.shape, type(y_valid))\n",
    "show_dtype()\n",
    "x_train, y_train, x_valid, y_valid = map(\n",
    "    torch.tensor, (x_train, y_train, x_valid, y_valid)\n",
    ")\n",
    "show_dtype()"
   ]
  },
  {
   "cell_type": "markdown",
   "id": "defbaf7b-f8d4-40c0-85b8-87909f4292ae",
   "metadata": {},
   "source": [
    "使用matplotlib输出原始图像"
   ]
  },
  {
   "cell_type": "code",
   "execution_count": 3,
   "id": "97d5246c-eb28-43a2-a333-469acbe21284",
   "metadata": {},
   "outputs": [
    {
     "data": {
      "text/plain": [
       "<matplotlib.image.AxesImage at 0x18f83ab1340>"
      ]
     },
     "execution_count": 3,
     "metadata": {},
     "output_type": "execute_result"
    },
    {
     "data": {
      "image/png": "[encoded data removed]",
      "text/plain": [
       "<Figure size 640x480 with 1 Axes>"
      ]
     },
     "metadata": {},
     "output_type": "display_data"
    }
   ],
   "source": [
    "import matplotlib.pyplot as plt\n",
    "%matplotlib inline\n",
    "\n",
    "img = x_train[5].reshape((28, 28))\n",
    "plt.imshow(img, cmap=\"gray\")"
   ]
  },
  {
   "cell_type": "markdown",
   "id": "6a55b300-43d1-466c-872a-5dee8d0efae8",
   "metadata": {},
   "source": [
    "试试使用交叉熵函数计算损失值"
   ]
  },
  {
   "cell_type": "code",
   "execution_count": 4,
   "id": "0fd3e591-4d99-4719-aed9-9735d83f78a6",
   "metadata": {},
   "outputs": [
    {
     "name": "stdout",
     "output_type": "stream",
     "text": [
      "torch.Size([64, 784])\n",
      "torch.Size([64])\n",
      "\n",
      "torch.Size([64, 10])\n",
      "torch.Size([64])\n",
      "\n",
      "tensor(11.6078, grad_fn=<NllLossBackward0>)\n"
     ]
    }
   ],
   "source": [
    "import torch.nn.functional as F\n",
    "\n",
    "# 损失函数\n",
    "loss_func = F.cross_entropy\n",
    "\n",
    "def model1(x):\n",
    "    return x.mm(weights) + bias\n",
    "\n",
    "# 随机初始化一组权重参数，大小、类型和是否可以更新\n",
    "weights = torch.randn([784, 10], dtype=torch.float, requires_grad=True)\n",
    "# 初始值全为 0 的偏置项，可以更新\n",
    "bias = torch.zeros(10, requires_grad=True)\n",
    "\n",
    "batch_size = 64\n",
    "x_b = x_train[:batch_size]\n",
    "y_b = y_train[:batch_size]\n",
    "print(x_b.shape)\n",
    "print(y_b.shape)\n",
    "print()\n",
    "\n",
    "pre = model1(x_b)\n",
    "print(pre.shape)\n",
    "print(y_b.shape)\n",
    "print()\n",
    "\n",
    "loss_value = loss_func(pre, y_b)\n",
    "print(loss_value)"
   ]
  },
  {
   "cell_type": "markdown",
   "id": "7abd2d74-1110-4c0c-8e07-dd3ad21c0f6b",
   "metadata": {},
   "source": [
    "定义神经网络"
   ]
  },
  {
   "cell_type": "code",
   "execution_count": 9,
   "id": "6039d550-48f9-45b3-b604-4d7513e8d5b2",
   "metadata": {},
   "outputs": [],
   "source": [
    "from torch import nn\n",
    "\n",
    "# 继承\n",
    "class Nn(nn.Module):\n",
    "    def __init__(self):\n",
    "        super().__init__()\n",
    "        # 定义隐藏层\n",
    "        self.hidden1 = nn.Linear(784, 128)\n",
    "        self.hidden2 = nn.Linear(128, 256)\n",
    "        # 定义输出，进行的是十分类\n",
    "        self.out = nn.Linear(256, 10)\n",
    "        # 定义，作用是丢弃部分神经元，避免过度依赖训练集中的噪声\n",
    "        self.dropout = nn.Dropout(0.5)\n",
    "\n",
    "    def forward(self, x):\n",
    "        \"\"\"前向传播\"\"\"\n",
    "        x = F.relu(self.hidden1(x))\n",
    "        # print(x.shape)\n",
    "        # dropout 不会改变输出的维度\n",
    "        x = self.dropout(x)\n",
    "        x = F.relu(self.hidden2(x))\n",
    "        # print(x.shape)\n",
    "        x = self.dropout(x)\n",
    "        return x\n",
    "\n",
    "# # 查看定义的神经网络自己随机初始化的权重和偏置项\n",
    "# net = Nn()\n",
    "# for name, parameter in net.named_parameters():\n",
    "#     # print(name, parameter.shape)\n",
    "#     pass"
   ]
  },
  {
   "cell_type": "markdown",
   "id": "d9406dc1-51a7-4d1a-876d-abd9b6798aaa",
   "metadata": {},
   "source": [
    "定义数据集"
   ]
  },
  {
   "cell_type": "code",
   "execution_count": 6,
   "id": "65892ff4-85df-4e7f-b449-5d3c5568d65c",
   "metadata": {},
   "outputs": [],
   "source": [
    "from torch.utils.data import TensorDataset, DataLoader\n",
    "\n",
    "# 封装成数据集：像素点 + 标签 组成一份数据，共 50000份\n",
    "train_ds = TensorDataset(x_train, y_train)\n",
    "# 从封装好的数据集中加载指定份（64份）数据进行打包\n",
    "# shuffle 为 True，意味着要先打乱样本然后再打包成批次（batch）\n",
    "batch_size = 64\n",
    "train_dl = DataLoader(train_ds, batch_size=batch_size, shuffle=True)\n",
    "\n",
    "# 验证的数据集就没必要打乱了\n",
    "valid_ds = TensorDataset(x_valid, y_valid)\n",
    "valid_dl = DataLoader(valid_ds, batch_size=batch_size)"
   ]
  },
  {
   "cell_type": "code",
   "execution_count": 7,
   "id": "48fd9bdd-9103-4479-8f90-49e240059af5",
   "metadata": {},
   "outputs": [],
   "source": [
    "# 定义成函数\n",
    "def get_data(train_ds, valid_ds, bs):\n",
    "    return (\n",
    "        DataLoader(train_ds, batch_size=bs, shuffle=True),\n",
    "        DataLoader(valid_ds, batch_size=bs*2)\n",
    "    )"
   ]
  },
  {
   "cell_type": "markdown",
   "id": "da57b9f5-bb5c-4d5e-b95b-8ac89606360b",
   "metadata": {},
   "source": [
    "定义一个函数：获取 神经网络 和 优化器"
   ]
  },
  {
   "cell_type": "code",
   "execution_count": 8,
   "id": "4d18edf0-d7c6-49e2-b568-39a66bfd13e0",
   "metadata": {},
   "outputs": [],
   "source": [
    "from torch import optim\n",
    "\n",
    "def get_model():\n",
    "    # 实例化神经网络\n",
    "    model = Nn()\n",
    "    # 返回值中包括优化器--梯度下降\n",
    "    # 梯度下降函数中的 参数model.parameters() 表示更新时要更新所有的权重参数（即 weights 和 bias）\n",
    "    # 学习率决定了每次参数更新的步长大小\n",
    "    return model, optim.Adam(model.parameters(), lr=0.001)"
   ]
  },
  {
   "cell_type": "markdown",
   "id": "16882222-08c6-4113-9689-c5e23ddd139c",
   "metadata": {},
   "source": [
    "定义一个函数：可以只计算损失值，也可以进行反向传播"
   ]
  },
  {
   "cell_type": "code",
   "execution_count": 9,
   "id": "7006cf29-45e1-4cfb-984d-778eb4dca561",
   "metadata": {},
   "outputs": [],
   "source": [
    "# 计算损失值，可选择是否对模型进行更新\n",
    "def loss_batch(model, loss_func, xb, yb, opt=None):\n",
    "    # 计算损失值\n",
    "    loss = loss_func(model(xb), yb)\n",
    "\n",
    "    if opt is not None:\n",
    "        loss.backward()  # 计算梯度\n",
    "        opt.step()       # 按构建时的参数来更新权重参数\n",
    "        opt.zero_grad()  # 将旧的参数清零了\n",
    "\n",
    "    # 反向传播是直接更新权重矩阵的，不需要返回值\n",
    "    \n",
    "    # loss.item()：计算损失值转为 python基本数值类型（float）\n",
    "    # len(xb)：样本数量\n",
    "    return loss.item(), len(xb)"
   ]
  },
  {
   "cell_type": "markdown",
   "id": "4a31621a-906b-41ec-83c7-57dc1baaec0c",
   "metadata": {},
   "source": [
    "现在有 神经网络（包含前向传播）、优化器、数据集 和 反向传播，接下来进行训练模型"
   ]
  },
  {
   "cell_type": "code",
   "execution_count": 10,
   "id": "5d5d9bc8-4c0d-4c53-af1e-1c690c8ffcc8",
   "metadata": {},
   "outputs": [],
   "source": [
    "import numpy as np\n",
    "\n",
    "def fit(steps, model, opt, loss_func, train_dl, valid_dl):\n",
    "    for step in range(steps):\n",
    "        # 训练模式\n",
    "        model.train()\n",
    "        for xb, yb in train_dl:\n",
    "            loss_batch(model, loss_func, xb, yb, opt)\n",
    "\n",
    "        # 验证模式\n",
    "        model.eval()\n",
    "        # 在 torch.no_grad() 块内，所有涉及 requires_grad=True 张量的操作都不会生成计算图，也不会存储中间梯度\n",
    "        with torch.no_grad():\n",
    "            losses, nums = zip(\n",
    "                *[loss_batch(model, loss_func, xb, yb) for xb, yb in valid_dl]\n",
    "            )\n",
    "            # 总损失 / 总样本数\n",
    "            val_loss = np.sum(np.multiply(losses, nums)) / np.sum(nums)\n",
    "            print(\"当前step：\" + str(step), \"验证集损失：\" + str(val_loss))"
   ]
  },
  {
   "cell_type": "markdown",
   "id": "730b2f7c-1c6a-4ccb-97a3-62a276ea9a55",
   "metadata": {},
   "source": [
    "运行模型"
   ]
  },
  {
   "cell_type": "code",
   "execution_count": 11,
   "id": "39cf9f1a-b406-4db2-b180-9120d05c21e4",
   "metadata": {},
   "outputs": [
    {
     "name": "stdout",
     "output_type": "stream",
     "text": [
      "当前step：0 验证集损失：1.8169410785675049\n",
      "当前step：1 验证集损失：1.450779263305664\n",
      "当前step：2 验证集损失：1.3596630800247191\n",
      "当前step：3 验证集损失：1.2637135103225707\n",
      "当前step：4 验证集损失：1.1502763191223144\n",
      "当前step：5 验证集损失：1.0406708005905152\n",
      "当前step：6 验证集损失：1.0379441184997558\n",
      "当前step：7 验证集损失：1.0035137592315675\n",
      "当前step：8 验证集损失：1.0059878801345825\n",
      "当前step：9 验证集损失：1.0366246160507202\n",
      "当前step：10 验证集损失：0.9867536828994751\n",
      "当前step：11 验证集损失：0.9299606187820435\n",
      "当前step：12 验证集损失：0.9453409784317016\n",
      "当前step：13 验证集损失：0.8952330242156983\n",
      "当前step：14 验证集损失：0.8643382564544678\n",
      "当前step：15 验证集损失：0.8439805255889893\n",
      "当前step：16 验证集损失：0.8583290934562683\n",
      "当前step：17 验证集损失：0.8279292935371398\n",
      "当前step：18 验证集损失：0.7750207151412963\n",
      "当前step：19 验证集损失：0.7991797714233398\n",
      "当前step：20 验证集损失：0.8212349897384643\n",
      "当前step：21 验证集损失：0.8070483638763428\n",
      "当前step：22 验证集损失：0.7904217039108277\n",
      "当前step：23 验证集损失：0.8178210196495056\n",
      "当前step：24 验证集损失：0.7768994987487793\n",
      "当前step：25 验证集损失：0.7890050220489502\n",
      "当前step：26 验证集损失：0.8331443968772888\n",
      "当前step：27 验证集损失：0.7698141389846802\n",
      "当前step：28 验证集损失：0.7406393029212952\n",
      "当前step：29 验证集损失：0.7504707901954651\n",
      "当前step：30 验证集损失：0.7839347484588624\n",
      "当前step：31 验证集损失：0.7840927214622497\n",
      "当前step：32 验证集损失：0.7607453830718994\n",
      "当前step：33 验证集损失：0.7594198657035828\n",
      "当前step：34 验证集损失：0.7520210285186768\n",
      "当前step：35 验证集损失：0.7278107306003571\n",
      "当前step：36 验证集损失：0.7507475698471069\n",
      "当前step：37 验证集损失：0.7340768815994263\n",
      "当前step：38 验证集损失：0.7518373943328858\n",
      "当前step：39 验证集损失：0.7498506130218506\n",
      "当前step：40 验证集损失：0.7192243342876434\n",
      "当前step：41 验证集损失：0.7468122388839722\n",
      "当前step：42 验证集损失：0.719396722126007\n",
      "当前step：43 验证集损失：0.7261675370216369\n",
      "当前step：44 验证集损失：0.7173578333377838\n",
      "当前step：45 验证集损失：0.6942144959926605\n",
      "当前step：46 验证集损失：0.7117826038837433\n",
      "当前step：47 验证集损失：0.702649822473526\n",
      "当前step：48 验证集损失：0.7074860147476196\n",
      "当前step：49 验证集损失：0.7310333400249481\n",
      "当前step：50 验证集损失：0.7072396476745606\n",
      "当前step：51 验证集损失：0.7280920959472656\n",
      "当前step：52 验证集损失：0.6758050255298614\n",
      "当前step：53 验证集损失：0.7441979370594025\n",
      "当前step：54 验证集损失：0.6867269012928009\n",
      "当前step：55 验证集损失：0.7298888582229615\n",
      "当前step：56 验证集损失：0.70809765458107\n",
      "当前step：57 验证集损失：0.7006110960960388\n",
      "当前step：58 验证集损失：0.7410732174873352\n",
      "当前step：59 验证集损失：0.7270278205871582\n",
      "当前step：60 验证集损失：0.7149342146873474\n",
      "当前step：61 验证集损失：0.7060633358955384\n",
      "当前step：62 验证集损失：0.6763922990322113\n",
      "当前step：63 验证集损失：0.6864316733837128\n",
      "当前step：64 验证集损失：0.7109282057285309\n",
      "当前step：65 验证集损失：0.6915233956336975\n",
      "当前step：66 验证集损失：0.6822511564731598\n",
      "当前step：67 验证集损失：0.6817647760391236\n",
      "当前step：68 验证集损失：0.6800518481254577\n",
      "当前step：69 验证集损失：0.6691669932365417\n",
      "当前step：70 验证集损失：0.7027159466743469\n",
      "当前step：71 验证集损失：0.6957929392814636\n",
      "当前step：72 验证集损失：0.6740821762084961\n",
      "当前step：73 验证集损失：0.6850611156463623\n",
      "当前step：74 验证集损失：0.6943840325832367\n",
      "当前step：75 验证集损失：0.6649283986091614\n",
      "当前step：76 验证集损失：0.6607784451484681\n",
      "当前step：77 验证集损失：0.6523401218414306\n",
      "当前step：78 验证集损失：0.6383229716777802\n",
      "当前step：79 验证集损失：0.6671292934417724\n",
      "当前step：80 验证集损失：0.6806598822593689\n",
      "当前step：81 验证集损失：0.6733589524269104\n",
      "当前step：82 验证集损失：0.6757810939788819\n",
      "当前step：83 验证集损失：0.6663925515651703\n",
      "当前step：84 验证集损失：0.6657227798938751\n",
      "当前step：85 验证集损失：0.6722013858318329\n",
      "当前step：86 验证集损失：0.6666637444019318\n",
      "当前step：87 验证集损失：0.6910269146442414\n",
      "当前step：88 验证集损失：0.6631847756385804\n",
      "当前step：89 验证集损失：0.6583613211631775\n",
      "当前step：90 验证集损失：0.646607248544693\n",
      "当前step：91 验证集损失：0.6641218621730804\n",
      "当前step：92 验证集损失：0.6448222459316254\n",
      "当前step：93 验证集损失：0.6497199243068695\n",
      "当前step：94 验证集损失：0.650777704524994\n",
      "当前step：95 验证集损失：0.6498812611103058\n",
      "当前step：96 验证集损失：0.6362415084838867\n",
      "当前step：97 验证集损失：0.6513638683795929\n",
      "当前step：98 验证集损失：0.6487054784297943\n",
      "当前step：99 验证集损失：0.6111153536319732\n"
     ]
    }
   ],
   "source": [
    "steps = 100\n",
    "\n",
    "model, opt = get_model()\n",
    "\n",
    "loss_func = F.cross_entropy\n",
    "\n",
    "batch_size = 128\n",
    "train_dl, valid_dl = get_data(train_ds, valid_ds, batch_size)\n",
    "\n",
    "fit(steps, model, opt, loss_func, train_dl, valid_dl)"
   ]
  },
  {
   "cell_type": "markdown",
   "id": "843667d6-6b9d-4b9f-beee-3676ac1e81d7",
   "metadata": {},
   "source": [
    "计算当前模型的准确率"
   ]
  },
  {
   "cell_type": "code",
   "execution_count": 12,
   "id": "e03507ae-af6c-4d95-8925-3eeab1e165ba",
   "metadata": {},
   "outputs": [
    {
     "ename": "NameError",
     "evalue": "name 'valid_dl' is not defined",
     "output_type": "error",
     "traceback": [
      "\u001b[1;31m---------------------------------------------------------------------------\u001b[0m",
      "\u001b[1;31mNameError\u001b[0m                                 Traceback (most recent call last)",
      "Cell \u001b[1;32mIn[12], line 3\u001b[0m\n\u001b[0;32m      1\u001b[0m correct \u001b[38;5;241m=\u001b[39m \u001b[38;5;241m0\u001b[39m\n\u001b[0;32m      2\u001b[0m total \u001b[38;5;241m=\u001b[39m \u001b[38;5;241m0\u001b[39m\n\u001b[1;32m----> 3\u001b[0m \u001b[38;5;28;01mfor\u001b[39;00m xb, yb \u001b[38;5;129;01min\u001b[39;00m \u001b[43mvalid_dl\u001b[49m:\n\u001b[0;32m      4\u001b[0m     outputs \u001b[38;5;241m=\u001b[39m model(xb)\n\u001b[0;32m      5\u001b[0m     _, predict \u001b[38;5;241m=\u001b[39m torch\u001b[38;5;241m.\u001b[39mmax(outputs\u001b[38;5;241m.\u001b[39mdata, \u001b[38;5;241m1\u001b[39m)\n",
      "\u001b[1;31mNameError\u001b[0m: name 'valid_dl' is not defined"
     ]
    }
   ],
   "source": [
    "correct = 0\n",
    "total = 0\n",
    "for xb, yb in valid_dl:\n",
    "    outputs = model(xb)\n",
    "    _, predict = torch.max(outputs.data, 1)\n",
    "    total += yb.size(0)\n",
    "    correct += (predict == yb).sum().item()\n",
    "\n",
    "print(\"%d%%\" % (100 * correct / total))"
   ]
  },
  {
   "cell_type": "markdown",
   "id": "2a943628-46da-4512-ba22-eb81b377863c",
   "metadata": {},
   "source": [
    "加载与保存模型"
   ]
  },
  {
   "cell_type": "code",
   "execution_count": 14,
   "id": "fb6047bb-8a78-47c3-b431-4bd3cb04b733",
   "metadata": {},
   "outputs": [],
   "source": [
    "# 保存模型\n",
    "torch.save(model, \"./models/model.pth\")"
   ]
  },
  {
   "cell_type": "code",
   "execution_count": 15,
   "id": "442cbcbd-6bc8-4ff0-9305-b478a37e2265",
   "metadata": {},
   "outputs": [
    {
     "data": {
      "text/plain": [
       "Nn(\n",
       "  (hidden1): Linear(in_features=784, out_features=128, bias=True)\n",
       "  (hidden2): Linear(in_features=128, out_features=256, bias=True)\n",
       "  (out): Linear(in_features=256, out_features=10, bias=True)\n",
       "  (dropout): Dropout(p=0.5, inplace=False)\n",
       ")"
      ]
     },
     "execution_count": 15,
     "metadata": {},
     "output_type": "execute_result"
    }
   ],
   "source": [
    "import torch\n",
    "# 加载模型\n",
    "model = torch.load(\"./models/model.pth\", weights_only = False)\n",
    "model.eval()"
   ]
  },
  {
   "cell_type": "code",
   "execution_count": null,
   "id": "280dc3a0-9e6a-4c2d-b351-7c8786ba3333",
   "metadata": {},
   "outputs": [],
   "source": []
  }
 ],
 "metadata": {
  "kernelspec": {
   "display_name": "Python 3 (ipykernel)",
   "language": "python",
   "name": "python3"
  },
  "language_info": {
   "codemirror_mode": {
    "name": "ipython",
    "version": 3
   },
   "file_extension": ".py",
   "mimetype": "text/x-python",
   "name": "python",
   "nbconvert_exporter": "python",
   "pygments_lexer": "ipython3",
   "version": "3.9.21"
  }
 },
 "nbformat": 4,
 "nbformat_minor": 5
}
